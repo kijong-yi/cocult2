{
 "cells": [
  {
   "cell_type": "markdown",
   "metadata": {},
   "source": [
    "# Feature weighting with Wards hierarchical clustering"
   ]
  },
  {
   "cell_type": "code",
   "execution_count": 391,
   "metadata": {},
   "outputs": [
    {
     "data": {
      "text/plain": [
       "Wp (generic function with 1 method)"
      ]
     },
     "execution_count": 391,
     "metadata": {},
     "output_type": "execute_result"
    }
   ],
   "source": [
    "include(\"Wp.jl\")"
   ]
  },
  {
   "cell_type": "code",
   "execution_count": 125,
   "metadata": {},
   "outputs": [],
   "source": [
    "using DelimitedFiles\n",
    "raw=readdlm(\"A.std2.t.tsv\");"
   ]
  },
  {
   "cell_type": "code",
   "execution_count": 296,
   "metadata": {},
   "outputs": [
    {
     "data": {
      "text/plain": [
       "(Array{Float64,2}, (35, 66579))"
      ]
     },
     "execution_count": 296,
     "metadata": {},
     "output_type": "execute_result"
    }
   ],
   "source": [
    "Data=raw[2:end,2:end];\n",
    "Data=convert(Array{Float64,2}, Data)\n",
    "typeof(Data),size(Data)"
   ]
  },
  {
   "cell_type": "code",
   "execution_count": null,
   "metadata": {},
   "outputs": [],
   "source": [
    "#X=Data[:,:];\n",
    "#U,Z,Nk,W,WL = Wp(X, 1.5, RequiredK=4, trace=false);"
   ]
  },
  {
   "cell_type": "code",
   "execution_count": 342,
   "metadata": {},
   "outputs": [],
   "source": [
    "Data =[ 1 2 3 4 5 5 5 4 0 0 0 ;\n",
    "\t\t1 1 2 4 4 5 4 5 0 0 0 ;\n",
    "\t\t1 2 3 5 5 0 0 0 0 0 0 ;\n",
    "\t\t1 1 2 4 5 0 0 0 0 0 0 ;\n",
    "\t\t0 0 0 0 0 0 0 0 0 2 5 ;\n",
    "\t\t0 0 0 0 0 0 0 0 1 1 5 ;\n",
    "\t\t0 0 0 0 0 0 0 0 0 0 0 ;\n",
    "\t\t0 0 0 0 0 0 0 0 0 0 1.];\n",
    "\n",
    "#for i in 1:11\n",
    "#    Data[:,i] = (Data[:,i] .- sum(Data[:,i])/8)/(maximum(Data[:,i])-minimum(Data[:,i]))\n",
    "#end\n",
    "#Data"
   ]
  },
  {
   "cell_type": "raw",
   "metadata": {},
   "source": [
    "using ProfileView\n",
    "using Profile\n",
    "U,Z,Nk,W=Wp(Data[1:10,1:10],1.5,RequiredK=7)\n",
    "Profile.clear()\n",
    "@profile U,Z,Nk,W=Wp(Data[1:10,1:100],1.5,RequiredK=3)\n",
    "ProfileView.view()"
   ]
  },
  {
   "cell_type": "code",
   "execution_count": 355,
   "metadata": {},
   "outputs": [
    {
     "ename": "BoundsError",
     "evalue": "BoundsError: attempt to access 8×11 Array{Float64,2} at index [1:20, 1:10000]",
     "output_type": "error",
     "traceback": [
      "BoundsError: attempt to access 8×11 Array{Float64,2} at index [1:20, 1:10000]",
      "",
      "Stacktrace:",
      " [1] throw_boundserror(::Array{Float64,2}, ::Tuple{UnitRange{Int64},UnitRange{Int64}}) at ./abstractarray.jl:484",
      " [2] checkbounds at ./abstractarray.jl:449 [inlined]",
      " [3] _getindex at ./multidimensional.jl:588 [inlined]",
      " [4] getindex(::Array{Float64,2}, ::UnitRange{Int64}, ::UnitRange{Int64}) at ./abstractarray.jl:905",
      " [5] top-level scope at util.jl:156",
      " [6] top-level scope at In[355]:1"
     ]
    }
   ],
   "source": [
    "@time U,Z,Nk,W=Wp(Data[1:20,1:10000],1,RequiredK=3)"
   ]
  },
  {
   "cell_type": "code",
   "execution_count": 356,
   "metadata": {},
   "outputs": [
    {
     "name": "stdout",
     "output_type": "stream",
     "text": [
      "  1.214166 seconds (1.30 M allocations: 58.082 MiB, 2.82% gc time)\n"
     ]
    },
    {
     "data": {
      "text/plain": [
       "([1 1 … 1 1; 2 2 … 1 1; … ; 7 7 … 7 5; 8 7 … 7 5], [1.0 1.5 … 0.0 0.0; Inf Inf … Inf Inf; … ; Inf Inf … Inf Inf; Inf Inf … Inf Inf], [2.0, 0.0, 2.0, 0.0, 4.0, 0.0, 0.0, 0.0], [0.166639 4.99817e-5 … 0.0 0.0; Inf Inf … Inf Inf; … ; Inf Inf … Inf Inf; Inf Inf … Inf Inf], Any[])"
      ]
     },
     "execution_count": 356,
     "metadata": {},
     "output_type": "execute_result"
    }
   ],
   "source": [
    "@time U,Z,Nk,W=Wp(Data,2,RequiredK=3)"
   ]
  },
  {
   "cell_type": "code",
   "execution_count": 392,
   "metadata": {},
   "outputs": [
    {
     "data": {
      "text/plain": [
       "([1 1 … 1 1; 2 2 … 2 2; … ; 7 7 … 5 5; 8 7 … 5 5], [1.0 2.0 … 0.0 0.0; 1.0 1.0 … 0.0 0.0; … ; Inf Inf … Inf Inf; Inf Inf … Inf Inf], [3.0, 1.0, 0.0, 0.0, 4.0, 0.0, 0.0, 0.0], [1.0 0.0 … 0.0 0.0; 1.0 0.0 … 0.0 0.0; … ; 1.0 0.0 … 0.0 0.0; 1.0 0.0 … 0.0 0.0], Any[[1.0 0.0 … 0.0 0.0; 1.0 0.0 … 0.0 0.0; … ; 1.0 0.0 … 0.0 0.0; 1.0 0.0 … 0.0 0.0], [1.0 0.0 … 0.0 0.0; 1.0 0.0 … 0.0 0.0; … ; 1.0 0.0 … 0.0 0.0; 1.0 0.0 … 0.0 0.0], [1.0 0.0 … 0.0 0.0; 1.0 0.0 … 0.0 0.0; … ; 1.0 0.0 … 0.0 0.0; 1.0 0.0 … 0.0 0.0], [1.0 0.0 … 0.0 0.0; 1.0 0.0 … 0.0 0.0; … ; 1.0 0.0 … 0.0 0.0; 1.0 0.0 … 0.0 0.0], [1.0 0.0 … 0.0 0.0; 1.0 0.0 … 0.0 0.0; … ; 1.0 0.0 … 0.0 0.0; 1.0 0.0 … 0.0 0.0]])"
      ]
     },
     "execution_count": 392,
     "metadata": {},
     "output_type": "execute_result"
    }
   ],
   "source": [
    "U,Z,Nk,W,WL=Wp(Data,1,RequiredK=3,trace=true)"
   ]
  },
  {
   "cell_type": "code",
   "execution_count": 393,
   "metadata": {},
   "outputs": [
    {
     "data": {
      "text/plain": [
       "8×6 Array{Int64,2}:\n",
       " 1  1  1  1  1  1\n",
       " 2  2  2  2  2  2\n",
       " 3  3  3  3  3  1\n",
       " 4  4  4  4  3  1\n",
       " 5  5  5  5  5  5\n",
       " 6  6  6  5  5  5\n",
       " 7  7  5  5  5  5\n",
       " 8  7  5  5  5  5"
      ]
     },
     "execution_count": 393,
     "metadata": {},
     "output_type": "execute_result"
    }
   ],
   "source": [
    "U"
   ]
  },
  {
   "cell_type": "code",
   "execution_count": 394,
   "metadata": {},
   "outputs": [
    {
     "data": {
      "text/plain": [
       "8×11 Array{Float64,2}:\n",
       " 1.0  0.0  0.0  0.0  0.0  0.0  0.0  0.0  0.0  0.0  0.0\n",
       " 1.0  0.0  0.0  0.0  0.0  0.0  0.0  0.0  0.0  0.0  0.0\n",
       " 1.0  0.0  0.0  0.0  0.0  0.0  0.0  0.0  0.0  0.0  0.0\n",
       " 1.0  0.0  0.0  0.0  0.0  0.0  0.0  0.0  0.0  0.0  0.0\n",
       " 1.0  0.0  0.0  0.0  0.0  0.0  0.0  0.0  0.0  0.0  0.0\n",
       " 1.0  0.0  0.0  0.0  0.0  0.0  0.0  0.0  0.0  0.0  0.0\n",
       " 1.0  0.0  0.0  0.0  0.0  0.0  0.0  0.0  0.0  0.0  0.0\n",
       " 1.0  0.0  0.0  0.0  0.0  0.0  0.0  0.0  0.0  0.0  0.0"
      ]
     },
     "execution_count": 394,
     "metadata": {},
     "output_type": "execute_result"
    }
   ],
   "source": [
    "W"
   ]
  },
  {
   "cell_type": "code",
   "execution_count": 395,
   "metadata": {},
   "outputs": [
    {
     "data": {
      "text/plain": [
       "5-element Array{Any,1}:\n",
       " [1.0 0.0 … 0.0 0.0; 1.0 0.0 … 0.0 0.0; … ; 1.0 0.0 … 0.0 0.0; 1.0 0.0 … 0.0 0.0]\n",
       " [1.0 0.0 … 0.0 0.0; 1.0 0.0 … 0.0 0.0; … ; 1.0 0.0 … 0.0 0.0; 1.0 0.0 … 0.0 0.0]\n",
       " [1.0 0.0 … 0.0 0.0; 1.0 0.0 … 0.0 0.0; … ; 1.0 0.0 … 0.0 0.0; 1.0 0.0 … 0.0 0.0]\n",
       " [1.0 0.0 … 0.0 0.0; 1.0 0.0 … 0.0 0.0; … ; 1.0 0.0 … 0.0 0.0; 1.0 0.0 … 0.0 0.0]\n",
       " [1.0 0.0 … 0.0 0.0; 1.0 0.0 … 0.0 0.0; … ; 1.0 0.0 … 0.0 0.0; 1.0 0.0 … 0.0 0.0]"
      ]
     },
     "execution_count": 395,
     "metadata": {},
     "output_type": "execute_result"
    }
   ],
   "source": [
    "WL"
   ]
  },
  {
   "cell_type": "code",
   "execution_count": 387,
   "metadata": {},
   "outputs": [
    {
     "data": {
      "text/plain": [
       "true"
      ]
     },
     "execution_count": 387,
     "metadata": {},
     "output_type": "execute_result"
    }
   ],
   "source": [
    "WL[1] == WL[2] == WL[3] == WL[4]"
   ]
  },
  {
   "cell_type": "code",
   "execution_count": 390,
   "metadata": {},
   "outputs": [
    {
     "data": {
      "text/plain": [
       "88-element Array{Float64,1}:\n",
       " 1.0\n",
       " 1.0\n",
       " 1.0\n",
       " 1.0\n",
       " 1.0\n",
       " 1.0\n",
       " 1.0\n",
       " 1.0\n",
       " 0.0\n",
       " 0.0\n",
       " 0.0\n",
       " 0.0\n",
       " 0.0\n",
       " ⋮  \n",
       " 0.0\n",
       " 0.0\n",
       " 0.0\n",
       " 0.0\n",
       " 0.0\n",
       " 0.0\n",
       " 0.0\n",
       " 0.0\n",
       " 0.0\n",
       " 0.0\n",
       " 0.0\n",
       " 0.0"
      ]
     },
     "execution_count": 390,
     "metadata": {},
     "output_type": "execute_result"
    }
   ],
   "source": [
    "WL[1]"
   ]
  },
  {
   "cell_type": "code",
   "execution_count": null,
   "metadata": {},
   "outputs": [],
   "source": []
  }
 ],
 "metadata": {
  "kernelspec": {
   "display_name": "Julia 1.0.0",
   "language": "julia",
   "name": "julia-1.0"
  },
  "language_info": {
   "file_extension": ".jl",
   "mimetype": "application/julia",
   "name": "julia",
   "version": "1.0.0"
  }
 },
 "nbformat": 4,
 "nbformat_minor": 4
}
