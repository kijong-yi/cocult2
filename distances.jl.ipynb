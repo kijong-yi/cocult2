{
 "cells": [
  {
   "cell_type": "code",
   "execution_count": 1,
   "metadata": {},
   "outputs": [
    {
     "data": {
      "text/plain": [
       "9.42477796076938"
      ]
     },
     "execution_count": 1,
     "metadata": {},
     "output_type": "execute_result"
    }
   ],
   "source": [
    "π * 3"
   ]
  },
  {
   "cell_type": "code",
   "execution_count": 11,
   "metadata": {},
   "outputs": [],
   "source": [
    "using DelimitedFiles\n",
    "using Distances"
   ]
  },
  {
   "cell_type": "code",
   "execution_count": 5,
   "metadata": {},
   "outputs": [
    {
     "data": {
      "text/plain": [
       "(Any[\"(B)CSVSVEGKADTQYF\" 0.00214803 … 0 0.000234; \"(A)CAYRSSHYTGANSKLTF\" 0.000648 … 0 0; … ; \"(B)CASRLDSDNQPQHF\" 0 … 0.000749 0.00373657; \"(A)CGTEIGSSNTGKLIF\" 4.99e-5 … 0.00302297 0.00482444], AbstractString[\"tcr\" \"01.1520_c\" … \"32.base\" \"33.base\"])"
      ]
     },
     "execution_count": 5,
     "metadata": {},
     "output_type": "execute_result"
    }
   ],
   "source": [
    "lm = readdlm(\"lm.txt\", '\\t', '\\n', header = true)"
   ]
  },
  {
   "cell_type": "code",
   "execution_count": 8,
   "metadata": {},
   "outputs": [
    {
     "data": {
      "text/plain": [
       "66579×35 Array{Any,2}:\n",
       " \"(B)CSVSVEGKADTQYF\"       0.00214803  …  0.000195    0           0.000234  \n",
       " \"(A)CAYRSSHYTGANSKLTF\"    0.000648       0           0           0         \n",
       " \"(B)CASRAGTGTYGYTF\"       0.000215       0           0           0         \n",
       " \"(A)CALSEGAGNQFYF\"        0.000125       0           0           0         \n",
       " \"(A)CAMRGEAGNMLTF\"        0.000524       0.00121418  0.000302    0.0010721 \n",
       " \"(B)CATGKDGATGELFF\"       0.0140236   …  0.000195    0.00025     0.00140121\n",
       " \"(B)CASSLFGETQYF\"         0.00408126     0.000586    0.00025     0.000234  \n",
       " \"(B)CSARVSGFPYEQYF\"       0              0           0           0         \n",
       " \"(A)CATDAVGTGGFKTIF\"      0              0           0           0         \n",
       " \"(B)CAWSVPDTQYF\"          0.00675095     0           0           0         \n",
       " \"(A)CLVGDTGMNRDDKIIF\"     0           …  0           0           0         \n",
       " \"(B)CATSVGDTQYF\"          0              0           0           0         \n",
       " \"(A)CLVGDRTTSGTYKYIF\"     0.00194455     0.00194269  0.000907    0.00160815\n",
       " ⋮                                     ⋱                                    \n",
       " \"(B)CASRRSGNEQFF\"         0              0.000391    0.00149888  0.00210182\n",
       " \"(B)CASSPRSWDTQYF\"        0              0.000586    0           0.00210182\n",
       " \"(B)CASSFGTRLAESSYNEQFF\"  0              0.00156372  0.0005      0.00233536\n",
       " \"(B)CASSREPGQGAFF\"        0           …  0.000586    0.000999    0.00233536\n",
       " \"(B)CASSFGTWTYEQYF\"       0              0.000391    0           0.00233536\n",
       " \"(A)CARNTGGFKTIF\"         0              0.00194269  0.00211608  0.00241222\n",
       " \"(B)CASRPTSGRAPEGNEQFF\"   0              0.000782    0.00124906  0.00256889\n",
       " \"(A)CIVRVAGANQGGKLIF\"     0              0.00145702  0.00453446  0.00268025\n",
       " \"(B)CASSGGSSYEQYF\"        0.000153    …  0.000782    0.000749    0.00280243\n",
       " \"(A)CAASAKGDSWGKLQF\"      2.49e-5        0.00315687  0.00211608  0.00294827\n",
       " \"(B)CASRLDSDNQPQHF\"       0              0.000586    0.000749    0.00373657\n",
       " \"(A)CGTEIGSSNTGKLIF\"      4.99e-5        0.00194269  0.00302297  0.00482444"
      ]
     },
     "execution_count": 8,
     "metadata": {},
     "output_type": "execute_result"
    }
   ],
   "source": [
    "lm[1]"
   ]
  },
  {
   "cell_type": "code",
   "execution_count": 21,
   "metadata": {},
   "outputs": [
    {
     "name": "stdout",
     "output_type": "stream",
     "text": [
      "Array{Float64,2}\n"
     ]
    },
    {
     "data": {
      "text/plain": [
       "34×34 Array{Float64,2}:\n",
       " 0.0       0.534436  0.384918  0.455543  …  0.315663   0.316391   0.315979 \n",
       " 0.534436  0.0       0.492789  0.55123      0.442      0.442448   0.442611 \n",
       " 0.384918  0.492789  0.0       0.405155     0.239802   0.240986   0.24029  \n",
       " 0.455543  0.55123   0.405155  0.0          0.337266   0.337846   0.337731 \n",
       " 0.384389  0.4969    0.293432  0.407078     0.240362   0.241062   0.240601 \n",
       " 0.445291  0.548612  0.399033  0.467774  …  0.333376   0.33447    0.333126 \n",
       " 0.484207  0.575124  0.378965  0.501774     0.378552   0.379712   0.378715 \n",
       " 0.697578  0.767118  0.670217  0.712285     0.631341   0.631775   0.631584 \n",
       " 0.596425  0.67438   0.561287  0.61037      0.51313    0.514325   0.513869 \n",
       " 0.402766  0.507795  0.322797  0.398739     0.262242   0.262657   0.262388 \n",
       " 0.548658  0.630275  0.503348  0.561407  …  0.453481   0.454375   0.453777 \n",
       " 0.464886  0.545327  0.411654  0.484056     0.354896   0.355689   0.355419 \n",
       " 0.470527  0.569237  0.391651  0.478585     0.371316   0.372336   0.371846 \n",
       " ⋮                                       ⋱                                 \n",
       " 0.675362  0.748065  0.619089  0.690879     0.608482   0.609223   0.608754 \n",
       " 0.375554  0.486811  0.28587   0.394956     0.217464   0.218478   0.217637 \n",
       " 0.647008  0.717554  0.611784  0.658468     0.56981    0.570199   0.57007  \n",
       " 0.412944  0.518679  0.300291  0.4359    …  0.285529   0.286254   0.285826 \n",
       " 0.589828  0.666963  0.548646  0.601295     0.502484   0.503411   0.503538 \n",
       " 0.398999  0.509199  0.343555  0.420794     0.263231   0.26412    0.262513 \n",
       " 0.488817  0.583923  0.444101  0.500996     0.391193   0.392507   0.391893 \n",
       " 0.563755  0.643746  0.518152  0.576277     0.473706   0.474174   0.473979 \n",
       " 0.316281  0.442711  0.240711  0.337808  …  0.039568   0.0441201  0.0425448\n",
       " 0.315663  0.442     0.239802  0.337266     0.0        0.0400635  0.0380817\n",
       " 0.316391  0.442448  0.240986  0.337846     0.0400635  0.0        0.0404534\n",
       " 0.315979  0.442611  0.24029   0.337731     0.0380817  0.0404534  0.0      "
      ]
     },
     "execution_count": 21,
     "metadata": {},
     "output_type": "execute_result"
    }
   ],
   "source": [
    "x = lm[1][:,2:end]\n",
    "x = convert(Array{Float64,2}, x)\n",
    "E = pairwise(Euclidean(), x, dims = 2)"
   ]
  },
  {
   "cell_type": "code",
   "execution_count": 30,
   "metadata": {},
   "outputs": [
    {
     "data": {
      "text/plain": [
       "35×35 Array{Any,2}:\n",
       " \"tcr\"         \"01.1520_c\"   \"02.1459\"  …   \"31.base\"   \"32.base\"   \"33.base\"\n",
       " \"01.1520_c\"  0.0           0.534436       0.315663    0.316391    0.315979  \n",
       " \"02.1459\"    0.534436      0.0            0.442       0.442448    0.442611  \n",
       " \"03.1516\"    0.384918      0.492789       0.239802    0.240986    0.24029   \n",
       " \"04.1599\"    0.455543      0.55123        0.337266    0.337846    0.337731  \n",
       " \"05.1514\"    0.384389      0.4969      …  0.240362    0.241062    0.240601  \n",
       " \"06.1449\"    0.445291      0.548612       0.333376    0.33447     0.333126  \n",
       " \"07.1516\"    0.484207      0.575124       0.378552    0.379712    0.378715  \n",
       " \"08.1529\"    0.697578      0.767118       0.631341    0.631775    0.631584  \n",
       " \"09.1546\"    0.596425      0.67438        0.51313     0.514325    0.513869  \n",
       " \"10.1543\"    0.402766      0.507795    …  0.262242    0.262657    0.262388  \n",
       " \"11.159\"     0.548658      0.630275       0.453481    0.454375    0.453777  \n",
       " \"12.1508\"    0.464886      0.545327       0.354896    0.355689    0.355419  \n",
       " ⋮                                      ⋱                                    \n",
       " \"22.1499\"    0.675362      0.748065       0.608482    0.609223    0.608754  \n",
       " \"23.1461\"    0.375554      0.486811       0.217464    0.218478    0.217637  \n",
       " \"24.1466\"    0.647008      0.717554    …  0.56981     0.570199    0.57007   \n",
       " \"25.1583\"    0.412944      0.518679       0.285529    0.286254    0.285826  \n",
       " \"26.rest\"    0.589828      0.666963       0.502484    0.503411    0.503538  \n",
       " \"27.rest\"    0.398999      0.509199       0.263231    0.26412     0.262513  \n",
       " \"28.rest\"    0.488817      0.583923       0.391193    0.392507    0.391893  \n",
       " \"29.rest\"    0.563755      0.643746    …  0.473706    0.474174    0.473979  \n",
       " \"30.base\"    0.316281      0.442711       0.039568    0.0441201   0.0425448 \n",
       " \"31.base\"    0.315663      0.442          0.0         0.0400635   0.0380817 \n",
       " \"32.base\"    0.316391      0.442448       0.0400635   0.0         0.0404534 \n",
       " \"33.base\"    0.315979      0.442611       0.0380817   0.0404534   0.0       "
      ]
     },
     "execution_count": 30,
     "metadata": {},
     "output_type": "execute_result"
    }
   ],
   "source": [
    "vcat(lm[2], [lm[2][2:end] E])"
   ]
  },
  {
   "cell_type": "code",
   "execution_count": 24,
   "metadata": {},
   "outputs": [],
   "source": [
    "distances = [\n",
    "    Euclidean(),\n",
    "    SqEuclidean(),\n",
    "    Cityblock(),\n",
    "    TotalVariation(),\n",
    "    Chebyshev(),\n",
    "    Hamming(),\n",
    "    Jaccard(),\n",
    "    BrayCurtis(),\n",
    "    CosineDist(),\n",
    "    CorrDist(),\n",
    "    ChiSqDist(),\n",
    "    KLDivergence(),\n",
    "    GenKLDivergence(),\n",
    "    JSDivergence(),\n",
    "    SpanNormDist(),\n",
    "    BhattacharyyaDist(),\n",
    "    HellingerDist(),\n",
    "    MeanAbsDeviation(),\n",
    "    MeanSqDeviation(),\n",
    "    RMSDeviation(),\n",
    "    NormRMSDeviation()\n",
    "];\n",
    "outputs = [\n",
    "    \"Euclidean.pwm.txt\",\n",
    "    \"SqEuclidean.pwm.txt\",\n",
    "    \"Cityblock.pwm.txt\",\n",
    "    \"TotalVariation.pwm.txt\",\n",
    "    \"Chebyshev.pwm.txt\",\n",
    "    \"Hamming.pwm.txt\",\n",
    "    \"Jaccard.pwm.txt\",\n",
    "    \"BrayCurtis.pwm.txt\",\n",
    "    \"CosineDist.pwm.txt\",\n",
    "    \"CorrDist.pwm.txt\",\n",
    "    \"ChiSqDist.pwm.txt\",\n",
    "    \"KLDivergence.pwm.txt\",\n",
    "    \"GenKLDivergence.pwm.txt\",\n",
    "    \"JSDivergence.pwm.txt\",\n",
    "    \"SpanNormDist.pwm.txt\",\n",
    "    \"BhattacharyyaDist.pwm.txt\",\n",
    "    \"HellingerDist.pwm.txt\",\n",
    "    \"MeanAbsDeviation.pwm.txt\",\n",
    "    \"MeanSqDeviation.pwm.txt\",\n",
    "    \"RMSDeviation.pwm.txt\",\n",
    "    \"NormRMSDeviation.pwm.txt\"\n",
    "];"
   ]
  },
  {
   "cell_type": "code",
   "execution_count": 37,
   "metadata": {},
   "outputs": [],
   "source": [
    "x = lm[1][:,2:end]\n",
    "x = convert(Array{Float64,2}, x)\n",
    "for i in 1:size(distances,1)\n",
    "    E = pairwise(distances[i], x, dims = 2)\n",
    "    o = vcat(lm[2], [lm[2][2:end] E])\n",
    "    o[1,1] = \"dist\"\n",
    "    writedlm(outputs[i], o)\n",
    "end"
   ]
  },
  {
   "cell_type": "code",
   "execution_count": 39,
   "metadata": {},
   "outputs": [
    {
     "data": {
      "text/plain": [
       "66579×34 BitArray{2}:\n",
       "  true   true   true   true   true  …   true  false   true  false   true\n",
       "  true   true   true   true   true     false  false  false  false  false\n",
       "  true   true   true  false  false      true  false  false  false  false\n",
       "  true   true   true  false  false      true  false  false  false  false\n",
       "  true   true   true   true   true     false   true   true   true   true\n",
       "  true   true   true   true   true  …   true  false   true   true   true\n",
       "  true   true   true   true   true      true   true   true   true   true\n",
       " false  false   true  false  false     false  false  false  false  false\n",
       " false  false   true  false   true     false  false  false  false  false\n",
       "  true   true   true  false   true      true  false  false  false  false\n",
       " false  false   true  false  false  …  false  false  false  false  false\n",
       " false  false   true  false  false     false  false  false  false  false\n",
       "  true   true   true   true   true      true   true   true   true   true\n",
       "     ⋮                              ⋱             ⋮                     \n",
       " false   true  false  false   true      true  false   true   true   true\n",
       " false  false  false  false  false     false   true   true  false   true\n",
       " false  false  false   true   true      true   true   true   true   true\n",
       " false   true  false  false  false  …  false  false   true   true   true\n",
       " false  false  false   true   true      true  false   true  false   true\n",
       " false  false  false   true   true      true   true   true   true   true\n",
       " false  false  false   true  false      true   true   true   true   true\n",
       " false  false  false   true   true     false   true   true   true   true\n",
       "  true  false  false  false   true  …  false   true   true   true   true\n",
       "  true  false  false   true   true      true   true   true   true   true\n",
       " false  false  false  false   true     false   true   true   true   true\n",
       "  true   true  false   true   true      true   true   true   true   true"
      ]
     },
     "execution_count": 39,
     "metadata": {},
     "output_type": "execute_result"
    }
   ],
   "source": [
    "b = x.>0"
   ]
  },
  {
   "cell_type": "code",
   "execution_count": 42,
   "metadata": {},
   "outputs": [],
   "source": [
    "E = pairwise(RogersTanimoto(), b, dims = 2)\n",
    "o = vcat(lm[2], [lm[2][2:end] E])\n",
    "o[1,1] = \"dist\"\n",
    "writedlm(\"RogersTanimoto.pwm.txt\", o)"
   ]
  }
 ],
 "metadata": {
  "kernelspec": {
   "display_name": "Julia 1.1.0",
   "language": "julia",
   "name": "julia-1.1"
  },
  "language_info": {
   "file_extension": ".jl",
   "mimetype": "application/julia",
   "name": "julia",
   "version": "1.1.0"
  }
 },
 "nbformat": 4,
 "nbformat_minor": 2
}
